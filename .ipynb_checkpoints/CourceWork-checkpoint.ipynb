{
 "cells": [
  {
   "cell_type": "code",
   "execution_count": 1,
   "id": "c3616881",
   "metadata": {},
   "outputs": [],
   "source": [
    "import numpy as np\n",
    "from PIL import Image\n",
    "import math\n",
    "import random\n",
    "import sys, getopt\n",
    "from scipy.fft import fft2, fftfreq, fftshift, ifft2\n",
    "from scipy import fftpack, ndimage\n",
    "from matplotlib import pyplot as plt\n",
    "import cmath\n",
    "from scipy.signal import convolve2d\n",
    "from matplotlib.pyplot import imread\n",
    "import os"
   ]
  },
  {
   "cell_type": "code",
   "execution_count": 2,
   "id": "fe4bdafc",
   "metadata": {},
   "outputs": [],
   "source": [
    "def M(x, y):\n",
    "    if(x**2 + y**2 < (math.pi/2)**2):\n",
    "        return 1\n",
    "    else:\n",
    "        return 0"
   ]
  },
  {
   "cell_type": "code",
   "execution_count": 3,
   "id": "7e349a74",
   "metadata": {},
   "outputs": [],
   "source": [
    "def p_s(x, y, delta_z):\n",
    "    return 0.375 * delta_z * math.pi * (x**2 + y**2)"
   ]
  },
  {
   "cell_type": "code",
   "execution_count": 4,
   "id": "934dd9f1",
   "metadata": {},
   "outputs": [],
   "source": [
    "def p(x, y):\n",
    "    return 0.5 * math.pi * (x**2 + y**2)"
   ]
  },
  {
   "cell_type": "code",
   "execution_count": 5,
   "id": "1372ace2",
   "metadata": {},
   "outputs": [],
   "source": [
    "def h(delta_z):  # создает матрицу для фильтра нужной нам размерности (h)\n",
    "# от сигма зависит степень размытия. чем больше сигма тем больше размытие\n",
    "    \n",
    "    matr = np.zeros(shape = (512,512), dtype = np.complex128) # матрица из 0 (по размеру изборжания подаваемого)\n",
    "                                          \n",
    "    #|F(M(x,y)∙exp{i∙p_s (x,y,∆z_nm )+i∙p(x,y)})|\n",
    "    \n",
    "    #p_s = 0.375* math.pi * (разность между слоями) * (x**2 + y**2) \n",
    "     \n",
    "    for i in range(matr.shape[0]):\n",
    "        for j in range(matr.shape[1]):\n",
    "            x = math.pi/511*(i-255)\n",
    "            y = math.pi/511*(j-255)\n",
    "            matr[i, j] = M(x,y) * cmath.exp(1j * p_s(x, y, delta_z) + 1j * p(x, y))\n",
    "            \n",
    "    return abs(fftshift(fft2(matr)))"
   ]
  },
  {
   "cell_type": "code",
   "execution_count": 6,
   "id": "55aeb475",
   "metadata": {},
   "outputs": [],
   "source": [
    "def read_pics(filename, number_of_pics):\n",
    "    N = number_of_pics\n",
    "    pics = [0] * number_of_pics\n",
    "    \n",
    "    for i in range(number_of_pics):\n",
    "        im = Image.open(((os.path.abspath(os.curdir))+ '/pics/' + filename[i]),'r')\n",
    "        data = np.array(im)                         #представляем как массив\n",
    "        data_im_fl = data[:,:,0].astype(np.float)\n",
    "        #plt.imshow(data_im_fl)\n",
    "        #plt.show()\n",
    "        im_f_n = np.zeros(shape = (1024,1024), dtype = complex)\n",
    "        im_f_n[0:512,0:512] = data_im_fl            #расширяем\n",
    "        im_f_n = fftshift(fft2(im_f_n))             #применяем ПФ\n",
    "        pics[i] += im_f_n\n",
    "    return pics"
   ]
  },
  {
   "cell_type": "code",
   "execution_count": 11,
   "id": "f4a959e1",
   "metadata": {
    "scrolled": true
   },
   "outputs": [
    {
     "name": "stdout",
     "output_type": "stream",
     "text": [
      "<class 'list'>\n",
      "<class 'list'>\n"
     ]
    },
    {
     "data": {
      "text/plain": [
       "<matplotlib.colorbar.Colorbar at 0x7f81d6ae4190>"
      ]
     },
     "execution_count": 11,
     "metadata": {},
     "output_type": "execute_result"
    },
    {
     "data": {
      "image/png": "[encoded data removed]",
      "text/plain": [
       "<Figure size 432x288 with 2 Axes>"
      ]
     },
     "metadata": {
      "needs_background": "light"
     },
     "output_type": "display_data"
    }
   ],
   "source": [
    "%matplotlib inline\n",
    "#зубочистка\n",
    "\n",
    "dir_pics = os.listdir(path = ((os.path.abspath(os.curdir))+'/pics/'))\n",
    "dir_pics.sort()\n",
    "\n",
    "pics = read_pics(dir_pics, len(dir_pics))\n",
    "three = [0] * len(pics)\n",
    "final = [0] * len(pics)\n",
    "\n",
    "\n",
    "k = len(pics)\n",
    "mas_of_h = [0] * (2*k-1)\n",
    "print(type(mas_of_h))\n",
    "\n",
    "#считаем h [-кол-во_изобр, +кол-во_изобр]\n",
    "for i in range (-len(pics)+1, len(pics)):\n",
    "    h_f_n = np.zeros(shape = (1024,1024), dtype = complex)\n",
    "    h_f_n[0:512, 0:512] = h(delta_z = math.pi * i)\n",
    "    mas_of_h[i+len(pics)-1] += fftshift(fft2(h_f_n))\n",
    "    \n",
    "\n",
    "for m in range(len(pics)):\n",
    "    for n in range(len(pics)):\n",
    "        final[m] += abs(ifft2(pics[n] * mas_of_h[n-m+len(pics)-1])) \n",
    "    final[m] /= len(pics)\n",
    "    \n",
    "\n",
    "print(type(final))\n",
    "\n",
    "plt.imshow(final[1][255:768,255:728], cmap = \"Greys\")\n",
    "plt.colorbar()\n"
   ]
  }
 ],
 "metadata": {
  "kernelspec": {
   "display_name": "Python 3",
   "language": "python",
   "name": "python3"
  },
  "language_info": {
   "codemirror_mode": {
    "name": "ipython",
    "version": 3
   },
   "file_extension": ".py",
   "mimetype": "text/x-python",
   "name": "python",
   "nbconvert_exporter": "python",
   "pygments_lexer": "ipython3",
   "version": "3.8.5"
  }
 },
 "nbformat": 4,
 "nbformat_minor": 5
}
