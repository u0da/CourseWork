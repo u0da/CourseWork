{
 "cells": [
  {
   "cell_type": "code",
   "execution_count": 1,
   "id": "c3616881",
   "metadata": {},
   "outputs": [],
   "source": [
    "import numpy as np\n",
    "from PIL import Image\n",
    "import math\n",
    "import random\n",
    "import sys, getopt\n",
    "from scipy.fft import fft2, fftfreq, fftshift, ifft2\n",
    "from scipy import fftpack, ndimage\n",
    "from matplotlib import pyplot as plt\n",
    "import cmath\n",
    "from scipy.signal import convolve2d\n",
    "from matplotlib.pyplot import imread"
   ]
  },
  {
   "cell_type": "code",
   "execution_count": 2,
   "id": "fe4bdafc",
   "metadata": {},
   "outputs": [],
   "source": [
    "def M(x, y):\n",
    "    if(x**2 + y**2 < (math.pi/2)**2):\n",
    "        return 1\n",
    "    else:\n",
    "        return 0"
   ]
  },
  {
   "cell_type": "code",
   "execution_count": 3,
   "id": "7e349a74",
   "metadata": {},
   "outputs": [],
   "source": [
    "def p_s(x, y, delta_z):\n",
    "    return 0.375 * delta_z * math.pi * (x**2 + y**2)"
   ]
  },
  {
   "cell_type": "code",
   "execution_count": 4,
   "id": "934dd9f1",
   "metadata": {},
   "outputs": [],
   "source": [
    "def p(x, y):\n",
    "    return 0.5 * math.pi * (x**2 + y**2)"
   ]
  },
  {
   "cell_type": "code",
   "execution_count": 5,
   "id": "1372ace2",
   "metadata": {},
   "outputs": [],
   "source": [
    "def h(delta_z):  # создает матрицу для фильтра нужной нам размерности (h)\n",
    "# от сигма зависит степень размытия. чем больше сигма тем больше размытие\n",
    "    \n",
    "    matr = np.zeros(shape = (512,512), dtype = np.complex128) # матрица из 0 (по размеру изборжания подаваемого)\n",
    "                                          \n",
    "    #|F(M(x,y)∙exp{i∙p_s (x,y,∆z_nm )+i∙p(x,y)})|\n",
    "    \n",
    "    #p_s = 0.375* math.pi * (разность между слоями) * (x**2 + y**2) \n",
    "     \n",
    "    for i in range(matr.shape[0]):\n",
    "        for j in range(matr.shape[1]):\n",
    "            x = math.pi/511*(i-255)\n",
    "            y = math.pi/511*(j-255)\n",
    "            matr[i, j] = M(x,y) * cmath.exp(1j * p_s(x, y, delta_z) + 1j * p(x, y))\n",
    "            #print(i, ' ', j,' ', matr[i,j], '\\n')\n",
    "    #s = np.sum(matr)\n",
    "    #matr /= s\n",
    "    return abs(fftshift(fft2(matr)))"
   ]
  },
  {
   "cell_type": "code",
   "execution_count": 16,
   "id": "f4a959e1",
   "metadata": {
    "scrolled": true
   },
   "outputs": [
    {
     "name": "stdout",
     "output_type": "stream",
     "text": [
      "<class 'list'>\n",
      "<class 'list'>\n"
     ]
    },
    {
     "data": {
      "text/plain": [
       "'\\nplt.imshow(final[2],cmap = \"gist_gray\")\\nplt.colorbar()\\n    '"
      ]
     },
     "execution_count": 16,
     "metadata": {},
     "output_type": "execute_result"
    },
    {
     "data": {
      "image/png": "[encoded data removed]",
      "text/plain": [
       "<Figure size 432x288 with 2 Axes>"
      ]
     },
     "metadata": {
      "needs_background": "light"
     },
     "output_type": "display_data"
    }
   ],
   "source": [
    "%matplotlib inline\n",
    "#зубочистка\n",
    "\n",
    "#1 слой\n",
    "im1 = Image.open('src.png', 'r')#convert('L') # нормкльные цвета\n",
    "#im = Image.open('result.png', 'r') -  инвертированные цвета\n",
    "data = np.array(im1)         # массив чисел из которых сост изображение\n",
    "data_im1_fl = data[:,:,0].astype(np.float) # рассматриваем как float\n",
    "\n",
    "#2 слой\n",
    "im2 = Image.open('src_0002.png', 'r')\n",
    "data_im2 = np.array(im2)\n",
    "data_im2_fl = data_im2[:,:,0].astype(np.float)\n",
    "\n",
    "#3 слой\n",
    "im3 = Image.open('src_0008.png', 'r')\n",
    "data_im3 = np.array(im3)\n",
    "data_im3_fl = data_im3[:,:,0].astype(np.float)\n",
    "\n",
    "'''\n",
    "plt.imshow(data_im1_fl)\n",
    "plt.show()\n",
    "plt.imshow(data_im2_fl)\n",
    "plt.show()\n",
    "plt.imshow(data_im3_fl)\n",
    "plt.show()\n",
    "'''\n",
    "#im = im.convert('1', dither=Image.NONE)\n",
    "#im.save('result.png')\n",
    "\n",
    "delta_z = 0\n",
    "\n",
    "\n",
    "#image_f = abs(fftshift(fft2(data_f)))\n",
    "#h_f = abs(fftshift(fft2(h(delta_z))))\n",
    "\n",
    "#plt.imshow(image_f, cmap=\"Greys\")\n",
    "#plt.colorbar()\n",
    "\n",
    "#con = convolve2d(data_f, h(delta_z), mode='same')\n",
    "\n",
    "#pr = image_f * h(delta_z)\n",
    "\n",
    "#1 слой, разширение матрицы, ПФ для матрицы \n",
    "im1_f_n = np.zeros(shape = (1024,1024), dtype = complex)\n",
    "im1_f_n[0:512,0:512] = data_im1_fl\n",
    "im1_f_n = fftshift(fft2(im1_f_n))\n",
    "\n",
    "\n",
    "#2 слой, разширение матрицы, ПФ для матрицы \n",
    "im2_f_n = np.zeros(shape = (1024,1024), dtype = complex)\n",
    "im2_f_n[0:512,0:512] = data_im2_fl\n",
    "im2_f_n = fftshift(fft2(im2_f_n))\n",
    "\n",
    "#3 слой, разширение матрицы, ПФ для матрицы \n",
    "im3_f_n = np.zeros(shape = (1024,1024), dtype = complex)\n",
    "im3_f_n[0:512,0:512] = data_im3_fl\n",
    "im3_f_n = fftshift(fft2(im3_f_n))\n",
    "\n",
    "\n",
    "pics = [im1_f_n, im2_f_n, im3_f_n]\n",
    "three = [im1_f_n, im2_f_n, im3_f_n]\n",
    "final = [im1_f_n, im2_f_n, im3_f_n]\n",
    "\n",
    "k = len(pics)\n",
    "mas_of_h = [0] * (2*k-1)\n",
    "print(type(mas_of_h))\n",
    "\n",
    "#считаем h [-кол-во_изобр, +кол-во_изобр]\n",
    "for i in range (-len(pics)+1, len(pics)):\n",
    "    h_f_n = np.zeros(shape = (1024,1024), dtype = complex)\n",
    "    h_f_n[0:512, 0:512] = h(delta_z = math.pi * i)\n",
    "    mas_of_h[i+len(pics)-1] += fftshift(fft2(h_f_n))\n",
    "    \n",
    "\n",
    "for m in range(len(pics)):\n",
    "    for n in range(len(pics)):\n",
    "        three[n] = abs(ifft2(pics[n] * mas_of_h[n-m+2])) \n",
    "    final[m] = (three[0] + three[1] + three[2]) / 3 #* delta_z\n",
    "\n",
    "    \n",
    "'''\n",
    "for m in range(len(pics)):\n",
    "    for n in range(len(pics)):\n",
    "        h_f_n = np.zeros(shape = (1024,1024), dtype = complex)\n",
    "        h_f_n[0:512, 0:512] = h(delta_z = math.pi * (n-m))\n",
    "        h_f_n = fftshift(fft2(h_f_n))\n",
    "        three[n] = abs(ifft2(pics[n] * h_f_n))      #получаем три изображения, с разным размытием для каждого слоя\n",
    "        #final[m] += three[n]\n",
    "    final[m] = (three[0] + three[1] + three[2]) / 3 #* delta_z\n",
    "''' \n",
    "\n",
    "#pr = im_f_n * h_f_n # перемножение матриц изображнения и h\n",
    "\n",
    "#print((pr.shape[0]))\n",
    "#print((pr.shape[1]))\n",
    "\n",
    "\n",
    "\n",
    "#print(type(image_f))\n",
    "#res = np.array(np.size(image_f) + np.size(h(delta_z)) - 1)\n",
    "\n",
    "#for i in range (np.size(res)):\n",
    "#    for j in range (np.size(h(delta_z))):\n",
    "#        if(i - j < np.size(image_f)):\n",
    "#            res[i]+=image_f[i-j] * h[j]\n",
    "\n",
    "#plt.imshow(res, cmap=\"Greys\")\n",
    "#plt.colorbar()\n",
    "\n",
    "#final = abs(ifft2(pr[0]))\n",
    "\n",
    "\n",
    "print(type(final))\n",
    "\n",
    "plt.imshow(final[1][255:768,255:728], cmap = \"Greys\")\n",
    "plt.colorbar()\n",
    "'''\n",
    "plt.imshow(final[2],cmap = \"gist_gray\")\n",
    "plt.colorbar()\n",
    "    '''\n",
    "\n",
    "\n",
    "#print((final.shape[0]))\n",
    "#print((final.shape[1]))\n",
    "\n",
    "#plt.imshow(h(delta_z), cmap=\"Greys\")\n",
    "#plt.colorbar()"
   ]
  }
 ],
 "metadata": {
  "kernelspec": {
   "display_name": "Python 3",
   "language": "python",
   "name": "python3"
  },
  "language_info": {
   "codemirror_mode": {
    "name": "ipython",
    "version": 3
   },
   "file_extension": ".py",
   "mimetype": "text/x-python",
   "name": "python",
   "nbconvert_exporter": "python",
   "pygments_lexer": "ipython3",
   "version": "3.8.5"
  }
 },
 "nbformat": 4,
 "nbformat_minor": 5
}
